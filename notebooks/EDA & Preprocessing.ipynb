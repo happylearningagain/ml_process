{
 "cells": [
  {
   "cell_type": "markdown",
   "id": "4a4961bc",
   "metadata": {},
   "source": [
    "### 1. Load Libraries"
   ]
  },
  {
   "cell_type": "code",
   "execution_count": 1,
   "id": "dc306dc8",
   "metadata": {},
   "outputs": [],
   "source": [
    "import seaborn as sns\n",
    "import matplotlib.pyplot as plt\n",
    "import src.util as utils\n",
    "import pandas as pd\n",
    "import numpy as np\n",
    "from imblearn.over_sampling import RandomOverSampler, SMOTE\n",
    "from sklearn.impute import SimpleImputer\n",
    "from sklearn.preprocessing import StandardScaler"
   ]
  },
  {
   "cell_type": "markdown",
   "id": "af1ddf20",
   "metadata": {},
   "source": [
    "### 2. Load Config"
   ]
  },
  {
   "cell_type": "code",
   "execution_count": 2,
   "id": "b92e5304",
   "metadata": {},
   "outputs": [],
   "source": [
    "config = utils.load_config()"
   ]
  },
  {
   "cell_type": "markdown",
   "id": "eba155ec",
   "metadata": {},
   "source": [
    "### 3. Load Training Data "
   ]
  },
  {
   "cell_type": "code",
   "execution_count": 3,
   "id": "e8108251",
   "metadata": {},
   "outputs": [],
   "source": [
    "def load_data(config_data: dict) -> pd.DataFrame:\n",
    "    x_train = utils.pickle_load(config_data[0])\n",
    "    y_train = utils.pickle_load(config_data[1])\n",
    "    \n",
    "    x_test = utils.pickle_load(config_data[2])\n",
    "    y_test = utils.pickle_load(config_data[3])\n",
    "    \n",
    "    train_data = pd.concat([x_train, y_train], axis = 1)\n",
    "    test_data = pd.concat([x_test, y_test], axis = 1)\n",
    "    \n",
    "    return train_data, test_data"
   ]
  },
  {
   "cell_type": "code",
   "execution_count": 4,
   "id": "b932715c",
   "metadata": {},
   "outputs": [],
   "source": [
    "train_data, test_data = load_data(config[\"traintest_set_path\"])"
   ]
  },
  {
   "cell_type": "code",
   "execution_count": 5,
   "id": "0b49b345",
   "metadata": {},
   "outputs": [
    {
     "data": {
      "text/html": [
       "<div>\n",
       "<style scoped>\n",
       "    .dataframe tbody tr th:only-of-type {\n",
       "        vertical-align: middle;\n",
       "    }\n",
       "\n",
       "    .dataframe tbody tr th {\n",
       "        vertical-align: top;\n",
       "    }\n",
       "\n",
       "    .dataframe thead th {\n",
       "        text-align: right;\n",
       "    }\n",
       "</style>\n",
       "<table border=\"1\" class=\"dataframe\">\n",
       "  <thead>\n",
       "    <tr style=\"text-align: right;\">\n",
       "      <th></th>\n",
       "      <th>Clump_thickness</th>\n",
       "      <th>Uniformity_of_cell_size</th>\n",
       "      <th>Uniformity_of_cell_shape</th>\n",
       "      <th>Marginal_adhesion</th>\n",
       "      <th>Single_epithelial_cell_size</th>\n",
       "      <th>Bare_nuclei</th>\n",
       "      <th>Bland_chromatin</th>\n",
       "      <th>Normal_nucleoli</th>\n",
       "      <th>Mitoses</th>\n",
       "      <th>Class</th>\n",
       "    </tr>\n",
       "  </thead>\n",
       "  <tbody>\n",
       "    <tr>\n",
       "      <th>493</th>\n",
       "      <td>5</td>\n",
       "      <td>10</td>\n",
       "      <td>10</td>\n",
       "      <td>10</td>\n",
       "      <td>6</td>\n",
       "      <td>10.0</td>\n",
       "      <td>6</td>\n",
       "      <td>5</td>\n",
       "      <td>2</td>\n",
       "      <td>4</td>\n",
       "    </tr>\n",
       "    <tr>\n",
       "      <th>80</th>\n",
       "      <td>2</td>\n",
       "      <td>2</td>\n",
       "      <td>2</td>\n",
       "      <td>1</td>\n",
       "      <td>1</td>\n",
       "      <td>1.0</td>\n",
       "      <td>7</td>\n",
       "      <td>1</td>\n",
       "      <td>1</td>\n",
       "      <td>2</td>\n",
       "    </tr>\n",
       "    <tr>\n",
       "      <th>262</th>\n",
       "      <td>8</td>\n",
       "      <td>8</td>\n",
       "      <td>9</td>\n",
       "      <td>4</td>\n",
       "      <td>5</td>\n",
       "      <td>10.0</td>\n",
       "      <td>7</td>\n",
       "      <td>8</td>\n",
       "      <td>1</td>\n",
       "      <td>4</td>\n",
       "    </tr>\n",
       "    <tr>\n",
       "      <th>300</th>\n",
       "      <td>8</td>\n",
       "      <td>4</td>\n",
       "      <td>10</td>\n",
       "      <td>5</td>\n",
       "      <td>4</td>\n",
       "      <td>4.0</td>\n",
       "      <td>7</td>\n",
       "      <td>10</td>\n",
       "      <td>1</td>\n",
       "      <td>4</td>\n",
       "    </tr>\n",
       "    <tr>\n",
       "      <th>123</th>\n",
       "      <td>5</td>\n",
       "      <td>3</td>\n",
       "      <td>5</td>\n",
       "      <td>1</td>\n",
       "      <td>8</td>\n",
       "      <td>10.0</td>\n",
       "      <td>5</td>\n",
       "      <td>3</td>\n",
       "      <td>1</td>\n",
       "      <td>4</td>\n",
       "    </tr>\n",
       "    <tr>\n",
       "      <th>...</th>\n",
       "      <td>...</td>\n",
       "      <td>...</td>\n",
       "      <td>...</td>\n",
       "      <td>...</td>\n",
       "      <td>...</td>\n",
       "      <td>...</td>\n",
       "      <td>...</td>\n",
       "      <td>...</td>\n",
       "      <td>...</td>\n",
       "      <td>...</td>\n",
       "    </tr>\n",
       "    <tr>\n",
       "      <th>265</th>\n",
       "      <td>5</td>\n",
       "      <td>1</td>\n",
       "      <td>4</td>\n",
       "      <td>1</td>\n",
       "      <td>2</td>\n",
       "      <td>1.0</td>\n",
       "      <td>3</td>\n",
       "      <td>2</td>\n",
       "      <td>1</td>\n",
       "      <td>2</td>\n",
       "    </tr>\n",
       "    <tr>\n",
       "      <th>223</th>\n",
       "      <td>7</td>\n",
       "      <td>5</td>\n",
       "      <td>6</td>\n",
       "      <td>3</td>\n",
       "      <td>3</td>\n",
       "      <td>8.0</td>\n",
       "      <td>7</td>\n",
       "      <td>4</td>\n",
       "      <td>1</td>\n",
       "      <td>4</td>\n",
       "    </tr>\n",
       "    <tr>\n",
       "      <th>58</th>\n",
       "      <td>5</td>\n",
       "      <td>2</td>\n",
       "      <td>3</td>\n",
       "      <td>1</td>\n",
       "      <td>6</td>\n",
       "      <td>10.0</td>\n",
       "      <td>5</td>\n",
       "      <td>1</td>\n",
       "      <td>1</td>\n",
       "      <td>4</td>\n",
       "    </tr>\n",
       "    <tr>\n",
       "      <th>41</th>\n",
       "      <td>10</td>\n",
       "      <td>4</td>\n",
       "      <td>3</td>\n",
       "      <td>1</td>\n",
       "      <td>3</td>\n",
       "      <td>3.0</td>\n",
       "      <td>6</td>\n",
       "      <td>5</td>\n",
       "      <td>2</td>\n",
       "      <td>4</td>\n",
       "    </tr>\n",
       "    <tr>\n",
       "      <th>570</th>\n",
       "      <td>8</td>\n",
       "      <td>10</td>\n",
       "      <td>4</td>\n",
       "      <td>4</td>\n",
       "      <td>8</td>\n",
       "      <td>10.0</td>\n",
       "      <td>8</td>\n",
       "      <td>2</td>\n",
       "      <td>1</td>\n",
       "      <td>4</td>\n",
       "    </tr>\n",
       "  </tbody>\n",
       "</table>\n",
       "<p>370 rows × 10 columns</p>\n",
       "</div>"
      ],
      "text/plain": [
       "     Clump_thickness  Uniformity_of_cell_size  Uniformity_of_cell_shape  \\\n",
       "493                5                       10                        10   \n",
       "80                 2                        2                         2   \n",
       "262                8                        8                         9   \n",
       "300                8                        4                        10   \n",
       "123                5                        3                         5   \n",
       "..               ...                      ...                       ...   \n",
       "265                5                        1                         4   \n",
       "223                7                        5                         6   \n",
       "58                 5                        2                         3   \n",
       "41                10                        4                         3   \n",
       "570                8                       10                         4   \n",
       "\n",
       "     Marginal_adhesion  Single_epithelial_cell_size  Bare_nuclei  \\\n",
       "493                 10                            6         10.0   \n",
       "80                   1                            1          1.0   \n",
       "262                  4                            5         10.0   \n",
       "300                  5                            4          4.0   \n",
       "123                  1                            8         10.0   \n",
       "..                 ...                          ...          ...   \n",
       "265                  1                            2          1.0   \n",
       "223                  3                            3          8.0   \n",
       "58                   1                            6         10.0   \n",
       "41                   1                            3          3.0   \n",
       "570                  4                            8         10.0   \n",
       "\n",
       "     Bland_chromatin  Normal_nucleoli  Mitoses  Class  \n",
       "493                6                5        2      4  \n",
       "80                 7                1        1      2  \n",
       "262                7                8        1      4  \n",
       "300                7               10        1      4  \n",
       "123                5                3        1      4  \n",
       "..               ...              ...      ...    ...  \n",
       "265                3                2        1      2  \n",
       "223                7                4        1      4  \n",
       "58                 5                1        1      4  \n",
       "41                 6                5        2      4  \n",
       "570                8                2        1      4  \n",
       "\n",
       "[370 rows x 10 columns]"
      ]
     },
     "execution_count": 5,
     "metadata": {},
     "output_type": "execute_result"
    }
   ],
   "source": [
    "train_data"
   ]
  },
  {
   "cell_type": "markdown",
   "id": "820fdf58",
   "metadata": {},
   "source": [
    "### 4. Balancing Class Training Data"
   ]
  },
  {
   "cell_type": "code",
   "execution_count": 6,
   "id": "f5a5eaf2",
   "metadata": {},
   "outputs": [
    {
     "data": {
      "text/plain": [
       "<AxesSubplot:xlabel='Class', ylabel='Count'>"
      ]
     },
     "execution_count": 6,
     "metadata": {},
     "output_type": "execute_result"
    },
    {
     "data": {
      "image/png": "[encoded data removed]",
      "text/plain": [
       "<Figure size 432x288 with 1 Axes>"
      ]
     },
     "metadata": {
      "needs_background": "light"
     },
     "output_type": "display_data"
    }
   ],
   "source": [
    "sns.histplot(data = train_data, x = train_data['Class'].apply(lambda x: \"benign\" if x==2 else \"malignant\"), hue=\"Class\")"
   ]
  },
  {
   "cell_type": "code",
   "execution_count": 7,
   "id": "d0eb6e86",
   "metadata": {},
   "outputs": [],
   "source": [
    "x_train, y_train = RandomOverSampler(random_state = 112).fit_resample(train_data.drop(\"Class\", axis = 1), train_data.Class)"
   ]
  },
  {
   "cell_type": "code",
   "execution_count": 12,
   "id": "9f3010c8",
   "metadata": {},
   "outputs": [
    {
     "data": {
      "text/plain": [
       "<AxesSubplot:xlabel='Class', ylabel='Count'>"
      ]
     },
     "execution_count": 12,
     "metadata": {},
     "output_type": "execute_result"
    },
    {
     "data": {
      "image/png": "[encoded data removed]",
      "text/plain": [
       "<Figure size 432x288 with 1 Axes>"
      ]
     },
     "metadata": {
      "needs_background": "light"
     },
     "output_type": "display_data"
    }
   ],
   "source": [
    "sns.histplot(data = pd.concat([x_train,y_train],axis=1), x = y_train.apply(lambda x: \"benign\" if x==2 else \"malignant\"), hue=\"Class\")"
   ]
  },
  {
   "cell_type": "markdown",
   "id": "02eda771",
   "metadata": {},
   "source": [
    "### 5. Handling Missing Value"
   ]
  },
  {
   "cell_type": "code",
   "execution_count": 34,
   "id": "aa93ace4",
   "metadata": {},
   "outputs": [
    {
     "data": {
      "text/plain": [
       "Clump_thickness                 0\n",
       "Uniformity_of_cell_size         0\n",
       "Uniformity_of_cell_shape        0\n",
       "Marginal_adhesion               0\n",
       "Single_epithelial_cell_size     0\n",
       "Bare_nuclei                    10\n",
       "Bland_chromatin                 0\n",
       "Normal_nucleoli                 0\n",
       "Mitoses                         0\n",
       "dtype: int64"
      ]
     },
     "execution_count": 34,
     "metadata": {},
     "output_type": "execute_result"
    }
   ],
   "source": [
    "x_train.isnull().sum()"
   ]
  },
  {
   "cell_type": "code",
   "execution_count": null,
   "id": "79950cab",
   "metadata": {},
   "outputs": [],
   "source": [
    "imputer = SimpleImputer(missing_values = np.nan,\n",
    "                        strategy = \"median\")"
   ]
  },
  {
   "cell_type": "code",
   "execution_count": null,
   "id": "2617653d",
   "metadata": {},
   "outputs": [],
   "source": [
    "#kolom yang mengandung missing value\n",
    "numerical_column = ['Bare_nuclei']\n",
    "missingval_data = pd.DataFrame(x_train[numerical_column])\n",
    "\n",
    "#fit imputer\n",
    "imputer.fit(missingval_data)\n",
    "\n",
    "#transform\n",
    "imputed_data = imputer.transform(missingval_data)\n",
    "numerical_data_imputed = pd.DataFrame(imputed_data)\n",
    "\n",
    "numerical_data_imputed.columns = numerical_column\n",
    "numerical_data_imputed.index = missingval_data.index"
   ]
  },
  {
   "cell_type": "code",
   "execution_count": null,
   "id": "6a53fa8c",
   "metadata": {},
   "outputs": [],
   "source": [
    "x_train[numerical_column] = numerical_data_imputed"
   ]
  },
  {
   "cell_type": "code",
   "execution_count": null,
   "id": "35ab75c4",
   "metadata": {},
   "outputs": [],
   "source": [
    "data_osm = pd.concat([x_train, y_train], axis = 1)"
   ]
  },
  {
   "cell_type": "markdown",
   "id": "f774b4ea",
   "metadata": {},
   "source": [
    "### 6. Data Exploration"
   ]
  },
  {
   "cell_type": "markdown",
   "id": "d28e447a",
   "metadata": {},
   "source": [
    "#### 6.1 Clump_thickness Distribution"
   ]
  },
  {
   "cell_type": "code",
   "execution_count": null,
   "id": "ad92da20",
   "metadata": {},
   "outputs": [],
   "source": [
    "sns.kdeplot(data=data_sm, x = data_sm.Clump_thickness, hue=data_sm.Class)"
   ]
  },
  {
   "cell_type": "code",
   "execution_count": null,
   "id": "ce61facd",
   "metadata": {},
   "outputs": [],
   "source": [
    "# Check for iqr\n",
    "sns.boxplot(data = data_sm, x = \"Clump_thickness\")"
   ]
  },
  {
   "cell_type": "markdown",
   "id": "a5827e66",
   "metadata": {},
   "source": [
    "#### 6.2 Uniformity_of_cell_size"
   ]
  },
  {
   "cell_type": "code",
   "execution_count": null,
   "id": "9e45922b",
   "metadata": {},
   "outputs": [],
   "source": [
    "sns.kdeplot(data=data_sm, x = data_sm.Uniformity_of_cell_size, hue=data_sm.Class)"
   ]
  },
  {
   "cell_type": "code",
   "execution_count": null,
   "id": "cee69dab",
   "metadata": {},
   "outputs": [],
   "source": [
    "# Check for iqr\n",
    "sns.boxplot(data = data_sm, x = \"Uniformity_of_cell_size\")"
   ]
  },
  {
   "cell_type": "markdown",
   "id": "ae123e7e",
   "metadata": {},
   "source": [
    "#### 6.3 Uniformity_of_cell_shape"
   ]
  },
  {
   "cell_type": "code",
   "execution_count": null,
   "id": "f419b405",
   "metadata": {},
   "outputs": [],
   "source": [
    "sns.kdeplot(data=data_sm, x = data_sm.Uniformity_of_cell_shape, hue=data_sm.Class)"
   ]
  },
  {
   "cell_type": "code",
   "execution_count": null,
   "id": "ee9d2626",
   "metadata": {},
   "outputs": [],
   "source": [
    "# Check for iqr\n",
    "sns.boxplot(data = data_sm, x = \"Uniformity_of_cell_shape\")"
   ]
  },
  {
   "cell_type": "markdown",
   "id": "4bb55041",
   "metadata": {},
   "source": [
    "#### 6.4 Marginal_adhesion"
   ]
  },
  {
   "cell_type": "code",
   "execution_count": null,
   "id": "aadc74d7",
   "metadata": {},
   "outputs": [],
   "source": [
    "sns.kdeplot(data=data_sm, x = data_sm.Marginal_adhesion, hue=data_sm.Class)"
   ]
  },
  {
   "cell_type": "code",
   "execution_count": null,
   "id": "dda271ee",
   "metadata": {},
   "outputs": [],
   "source": [
    "# Check for iqr\n",
    "sns.boxplot(data = data_sm, x = \"Marginal_adhesion\")"
   ]
  },
  {
   "cell_type": "markdown",
   "id": "efc221a7",
   "metadata": {},
   "source": [
    "#### 6.5 Single_epithelial_cell_size"
   ]
  },
  {
   "cell_type": "code",
   "execution_count": null,
   "id": "f65d928c",
   "metadata": {},
   "outputs": [],
   "source": [
    "sns.kdeplot(data=data_sm, x = data_sm.Single_epithelial_cell_size, hue=data_sm.Class)"
   ]
  },
  {
   "cell_type": "code",
   "execution_count": null,
   "id": "dbf0fd8f",
   "metadata": {},
   "outputs": [],
   "source": [
    "# Check for iqr\n",
    "sns.boxplot(data = data_sm, x = \"Single_epithelial_cell_size\")"
   ]
  },
  {
   "cell_type": "markdown",
   "id": "a8ced011",
   "metadata": {},
   "source": [
    "#### 6.6 Bare_nuclei"
   ]
  },
  {
   "cell_type": "code",
   "execution_count": null,
   "id": "199e2db4",
   "metadata": {},
   "outputs": [],
   "source": [
    "sns.kdeplot(data=data_sm, x = data_sm.Bare_nuclei, hue=data_sm.Class)"
   ]
  },
  {
   "cell_type": "code",
   "execution_count": null,
   "id": "bcc5bf81",
   "metadata": {},
   "outputs": [],
   "source": [
    "# Check for iqr\n",
    "sns.boxplot(data = data_sm, x = \"Bare_nuclei\")"
   ]
  },
  {
   "cell_type": "markdown",
   "id": "efa2bbad",
   "metadata": {},
   "source": [
    "#### 6.7 Bland_chromatin"
   ]
  },
  {
   "cell_type": "code",
   "execution_count": null,
   "id": "1a9f07e5",
   "metadata": {},
   "outputs": [],
   "source": [
    "sns.kdeplot(data=data_sm, x = data_sm.Bland_chromatin, hue=data_sm.Class)"
   ]
  },
  {
   "cell_type": "code",
   "execution_count": null,
   "id": "cccc006b",
   "metadata": {},
   "outputs": [],
   "source": [
    "# Check for iqr\n",
    "sns.boxplot(data = data_sm, x = \"Bland_chromatin\")"
   ]
  },
  {
   "cell_type": "markdown",
   "id": "32de71c7",
   "metadata": {},
   "source": [
    "#### 6.8 Normal_nucleoli"
   ]
  },
  {
   "cell_type": "code",
   "execution_count": null,
   "id": "cfb63d2d",
   "metadata": {},
   "outputs": [],
   "source": [
    "sns.kdeplot(data=data_sm, x = data_sm.Normal_nucleoli, hue=data_sm.Class)"
   ]
  },
  {
   "cell_type": "code",
   "execution_count": null,
   "id": "9cc07594",
   "metadata": {},
   "outputs": [],
   "source": [
    "# Check for iqr\n",
    "sns.boxplot(data = data_sm, x = \"Normal_nucleoli\")"
   ]
  },
  {
   "cell_type": "markdown",
   "id": "2ef1216a",
   "metadata": {},
   "source": [
    "#### 6.9 Mitoses"
   ]
  },
  {
   "cell_type": "code",
   "execution_count": null,
   "id": "1b498c1d",
   "metadata": {},
   "outputs": [],
   "source": [
    "sns.kdeplot(data=data_sm, x = data_sm.Mitoses, hue=data_sm.Class)"
   ]
  },
  {
   "cell_type": "code",
   "execution_count": null,
   "id": "32da08e2",
   "metadata": {},
   "outputs": [],
   "source": [
    "# Check for iqr\n",
    "sns.boxplot(data = data_sm, x = \"Mitoses\")"
   ]
  },
  {
   "cell_type": "code",
   "execution_count": null,
   "id": "5e067cd1",
   "metadata": {},
   "outputs": [],
   "source": [
    "data_sm.Mitoses.describe()"
   ]
  },
  {
   "cell_type": "markdown",
   "id": "99d80afe",
   "metadata": {},
   "source": [
    "### 7. Correlation"
   ]
  },
  {
   "cell_type": "code",
   "execution_count": null,
   "id": "e01a7104",
   "metadata": {},
   "outputs": [],
   "source": [
    "fig, ax = plt.subplots(figsize=(12,12))  \n",
    "sns.heatmap(data_sm.corr(method = \"spearman\"), annot = True, ax = ax)"
   ]
  },
  {
   "cell_type": "code",
   "execution_count": null,
   "id": "c93af21d",
   "metadata": {},
   "outputs": [],
   "source": [
    "sns.pairplot(\n",
    "    data_sm[\n",
    "        [\n",
    "            \"Clump_thickness\",\n",
    "            \"Uniformity_of_cell_size\",\n",
    "            \"Uniformity_of_cell_shape\",\n",
    "            \"Marginal_adhesion\",\n",
    "            \"Single_epithelial_cell_size\",\n",
    "            \"Bare_nuclei\",\n",
    "            \"Bland_chromatin\",\n",
    "            \"Normal_nucleoli\",\n",
    "            \"Mitoses\",\n",
    "            \"Class\"\n",
    "        ]\n",
    "    ].sample(len(data_sm)),\n",
    "    hue = \"Class\"\n",
    ")"
   ]
  },
  {
   "cell_type": "markdown",
   "id": "b89c816c",
   "metadata": {},
   "source": [
    "### 8. Scaling Data"
   ]
  },
  {
   "cell_type": "code",
   "execution_count": null,
   "id": "0211d997",
   "metadata": {},
   "outputs": [],
   "source": [
    "# Buat fungsi\n",
    "def standardizerData(data):\n",
    "    \"\"\"\n",
    "    Fungsi untuk melakukan standarisasi data\n",
    "    :param data: <pandas dataframe> sampel data\n",
    "    :return standardized_data: <pandas dataframe> sampel data standard\n",
    "    :return standardizer: method untuk standardisasi data\n",
    "    \"\"\"\n",
    "    data_columns = data.columns  # agar nama kolom tidak hilang\n",
    "    data_index = data.index  # agar index tidak hilang\n",
    "\n",
    "    # buat (fit) standardizer\n",
    "    standardizer = StandardScaler()\n",
    "    standardizer.fit(data)\n",
    "\n",
    "    # transform data\n",
    "    standardized_data_raw = standardizer.transform(data)\n",
    "    standardized_data = pd.DataFrame(standardized_data_raw)\n",
    "    standardized_data.columns = data_columns\n",
    "    standardized_data.index = data_index\n",
    "\n",
    "    return standardized_data, standardizer"
   ]
  },
  {
   "cell_type": "code",
   "execution_count": null,
   "id": "9e13fe50",
   "metadata": {},
   "outputs": [],
   "source": [
    "x_train_clean, standardizer = standardizerData(data = x_train)"
   ]
  },
  {
   "cell_type": "markdown",
   "id": "f9f8b67b",
   "metadata": {},
   "source": [
    "### 9. Dump to Pickle"
   ]
  },
  {
   "cell_type": "code",
   "execution_count": null,
   "id": "812ba20a",
   "metadata": {},
   "outputs": [],
   "source": [
    "utils.pickle_dump(x_train_clean, config[\"train_clean_set_path\"][0])\n",
    "utils.pickle_dump(y_train, config[\"train_clean_set_path\"][1])\n",
    "utils.pickle_dump(imputer, config[\"imputer\"])\n",
    "utils.pickle_dump(standardizer, config[\"standardizer\"])\n"
   ]
  }
 ],
 "metadata": {
  "kernelspec": {
   "display_name": "Python 3 (ipykernel)",
   "language": "python",
   "name": "python3"
  },
  "language_info": {
   "codemirror_mode": {
    "name": "ipython",
    "version": 3
   },
   "file_extension": ".py",
   "mimetype": "text/x-python",
   "name": "python",
   "nbconvert_exporter": "python",
   "pygments_lexer": "ipython3",
   "version": "3.9.12"
  }
 },
 "nbformat": 4,
 "nbformat_minor": 5
}
